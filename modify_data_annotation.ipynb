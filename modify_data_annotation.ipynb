{
 "cells": [
  {
   "cell_type": "markdown",
   "metadata": {},
   "source": [
    "# **IMPORT**"
   ]
  },
  {
   "cell_type": "code",
   "execution_count": 1,
   "metadata": {},
   "outputs": [],
   "source": [
    "from utils import load_json, save_json"
   ]
  },
  {
   "cell_type": "markdown",
   "metadata": {},
   "source": [
    "# **LOAD DATA**"
   ]
  },
  {
   "cell_type": "code",
   "execution_count": 2,
   "metadata": {},
   "outputs": [],
   "source": [
    "data_raw = []\n",
    "data_segmented = []\n",
    "data_dir = 'F:\\\\UNIVERSITY\\\\NCKH\\\\NCKH_V2\\\\baseline_final\\\\AoANet_Official\\\\AoANet\\\\data'\n",
    "\n",
    "# Path\n",
    "train_path_template = f'{data_dir}\\\\ViInforgraphicData\\\\train_2000<status>.json'\n",
    "dev_path_template = f'{data_dir}\\\\ViInforgraphicData\\\\dev_200<status>.json'\n",
    "test_path_template = f'{data_dir}\\\\ViInforgraphicData\\\\test_200<status>.json'\n",
    "\n",
    "# Path no segmented\n",
    "train_path_raw = train_path_template.replace('<status>', '')\n",
    "dev_path_raw = dev_path_template.replace('<status>', '')\n",
    "test_path_raw = test_path_template.replace('<status>', '')\n",
    "\n",
    "# Path segmented\n",
    "train_path_segmented = train_path_template.replace('<status>', '_segmented')\n",
    "dev_path_segmented = dev_path_template.replace('<status>', '_segmented')\n",
    "test_path_segmented = test_path_template.replace('<status>', '_segmented')"
   ]
  },
  {
   "cell_type": "code",
   "execution_count": 3,
   "metadata": {},
   "outputs": [],
   "source": [
    "# Load json raw\n",
    "train_sample_raw = load_json(train_path_raw)\n",
    "dev_sample_raw = load_json(dev_path_raw)\n",
    "test_sample_raw = load_json(test_path_raw)\n",
    "\n",
    "# Load json segmented\n",
    "train_sample_segmented = load_json(train_path_segmented)\n",
    "dev_sample_segmented = load_json(dev_path_segmented)\n",
    "test_sample_segmented = load_json(test_path_segmented)"
   ]
  },
  {
   "cell_type": "markdown",
   "metadata": {},
   "source": [
    "# **Inspect Example Data**"
   ]
  },
  {
   "cell_type": "code",
   "execution_count": 3,
   "metadata": {},
   "outputs": [],
   "source": [
    "example_path = 'F:\\\\UNIVERSITY\\\\NCKH\\\\NCKH_V2\\\\baseline\\\\data\\\\AoA\\\\example_from_author_repo\\\\dataset_coco.json'\n",
    "example_json = load_json(example_path)"
   ]
  },
  {
   "cell_type": "code",
   "execution_count": 10,
   "metadata": {},
   "outputs": [
    {
     "name": "stdout",
     "output_type": "stream",
     "text": [
      "Example type: <class 'dict'>\n",
      "Example First Level keys: dict_keys(['images', 'dataset'])\n",
      "\n",
      "Example Images type: <class 'list'>\n",
      "Example Images Example: {'filepath': 'val2014', 'sentids': [770337, 771687, 772707, 776154, 781998], 'filename': 'COCO_val2014_000000391895.jpg', 'imgid': 0, 'split': 'test', 'sentences': [{'tokens': ['a', 'man', 'with', 'a', 'red', 'helmet', 'on', 'a', 'small', 'moped', 'on', 'a', 'dirt', 'road'], 'raw': 'A man with a red helmet on a small moped on a dirt road. ', 'imgid': 0, 'sentid': 770337}, {'tokens': ['man', 'riding', 'a', 'motor', 'bike', 'on', 'a', 'dirt', 'road', 'on', 'the', 'countryside'], 'raw': 'Man riding a motor bike on a dirt road on the countryside.', 'imgid': 0, 'sentid': 771687}, {'tokens': ['a', 'man', 'riding', 'on', 'the', 'back', 'of', 'a', 'motorcycle'], 'raw': 'A man riding on the back of a motorcycle.', 'imgid': 0, 'sentid': 772707}, {'tokens': ['a', 'dirt', 'path', 'with', 'a', 'young', 'person', 'on', 'a', 'motor', 'bike', 'rests', 'to', 'the', 'foreground', 'of', 'a', 'verdant', 'area', 'with', 'a', 'bridge', 'and', 'a', 'background', 'of', 'cloud', 'wreathed', 'mountains'], 'raw': 'A dirt path with a young person on a motor bike rests to the foreground of a verdant area with a bridge and a background of cloud-wreathed mountains. ', 'imgid': 0, 'sentid': 776154}, {'tokens': ['a', 'man', 'in', 'a', 'red', 'shirt', 'and', 'a', 'red', 'hat', 'is', 'on', 'a', 'motorcycle', 'on', 'a', 'hill', 'side'], 'raw': 'A man in a red shirt and a red hat is on a motorcycle on a hill side.', 'imgid': 0, 'sentid': 781998}], 'cocoid': 391895}\n",
      "Example Image Item keys: dict_keys(['filepath', 'sentids', 'filename', 'imgid', 'split', 'sentences', 'cocoid'])\n"
     ]
    }
   ],
   "source": [
    "# Type\n",
    "e_type = type(example_json)\n",
    "\n",
    "# First level keys\n",
    "fl_keys = example_json.keys()\n",
    "\n",
    "# Images items\n",
    "image_item_type = type(example_json['images'])\n",
    "image_item_example = example_json['images'][0]\n",
    "image_small_item_keys = image_item_example.keys()\n",
    "\n",
    "\n",
    "# Print\n",
    "print(f'Example type: {e_type}')\n",
    "print(f'Example First Level keys: {fl_keys}\\n')\n",
    "print(f'Example Images type: {image_item_type}')\n",
    "print(f'Example Images Example: {image_item_example}')\n",
    "print(f'Example Image Item keys: {image_small_item_keys}')"
   ]
  },
  {
   "cell_type": "code",
   "execution_count": 16,
   "metadata": {},
   "outputs": [
    {
     "data": {
      "text/plain": [
       "dict_keys(['tokens', 'raw', 'imgid', 'sentid'])"
      ]
     },
     "execution_count": 16,
     "metadata": {},
     "output_type": "execute_result"
    }
   ],
   "source": [
    "image_item_example['sentences'][0].keys()"
   ]
  },
  {
   "cell_type": "code",
   "execution_count": 22,
   "metadata": {},
   "outputs": [
    {
     "data": {
      "text/plain": [
       "770337"
      ]
     },
     "execution_count": 22,
     "metadata": {},
     "output_type": "execute_result"
    }
   ],
   "source": [
    "image_item_example['sentences'][0]['sentid']"
   ]
  },
  {
   "cell_type": "code",
   "execution_count": 26,
   "metadata": {},
   "outputs": [
    {
     "data": {
      "text/plain": [
       "[770337, 771687, 772707, 776154, 781998]"
      ]
     },
     "execution_count": 26,
     "metadata": {},
     "output_type": "execute_result"
    }
   ],
   "source": [
    "image_item_example['sentids']"
   ]
  },
  {
   "cell_type": "markdown",
   "metadata": {},
   "source": [
    "# **Modify Data Annotation**"
   ]
  },
  {
   "cell_type": "code",
   "execution_count": 4,
   "metadata": {},
   "outputs": [],
   "source": [
    "# list(sample_raw.values())[0].keys()"
   ]
  },
  {
   "cell_type": "code",
   "execution_count": 5,
   "metadata": {},
   "outputs": [],
   "source": [
    "# Define template\n",
    "images_dir = f'{data_dir}\\\\images'\n",
    "template_item = {\n",
    "    'file_path': None, # Folder cửa từng dataset nếu như train trên nhiều bộ dữ liệu: Mình 1 bộ --> None\n",
    "    'file_name': None, # Id ảnh, đuôi .png,\n",
    "    'sentids': None, # Danh sách id của từng câu caption\n",
    "    'imgid': None, # Id ảnh\n",
    "    'split': None, # Ảnh thuộc tập train, val, hay test\n",
    "    'sentences': None,\n",
    "}\n",
    "\n",
    "args = {\n",
    "    'images_dir': images_dir,\n",
    "    'template_item': template_item,\n",
    "}"
   ]
  },
  {
   "cell_type": "code",
   "execution_count": 6,
   "metadata": {},
   "outputs": [],
   "source": [
    "def apply_template(\n",
    "        args, \n",
    "        annotations: list,\n",
    "        splits=['train', 'val', 'test']):\n",
    "    # Args var\n",
    "    images_dir = args['images_dir']\n",
    "    template = args['template_item']\n",
    "\n",
    "    # Save data\n",
    "    data_list = []\n",
    "    for viinfor_annotation, split in zip(annotations, splits):\n",
    "        for img_id, item in viinfor_annotation.items():\n",
    "            file_path = ''\n",
    "            file_name = f'{img_id}.png'\n",
    "            sentids = [img_id]\n",
    "            senid = img_id\n",
    "            raw = item['caption']\n",
    "            tokens = raw.split(' ')\n",
    "\n",
    "            item = template.copy()\n",
    "            item['file_path'] = file_path\n",
    "            item['file_name'] = file_name\n",
    "            item['sentids'] = sentids\n",
    "            item['imgid'] = img_id\n",
    "            item['split'] = split\n",
    "            item['sentences'] = [\n",
    "                {\n",
    "                    'tokens': tokens,\n",
    "                    'raw': raw,\n",
    "                    'imgid': img_id,\n",
    "                    'sentid': senid,\n",
    "                }\n",
    "            ]\n",
    "            data_list.append(item)\n",
    "    data = {\n",
    "        'images': data_list\n",
    "    }\n",
    "    return data\n",
    "\n",
    "data_list_raw = apply_template(\n",
    "    args,\n",
    "    annotations=[train_sample_raw, dev_sample_raw, test_sample_raw]\n",
    ")\n",
    "data_list_segmented = apply_template(\n",
    "    args,\n",
    "    annotations=[train_sample_segmented, dev_sample_segmented, test_sample_segmented]\n",
    ")"
   ]
  },
  {
   "cell_type": "code",
   "execution_count": 11,
   "metadata": {},
   "outputs": [],
   "source": [
    "# Save path\n",
    "raw_save_path = f'{data_dir}\\\\save_annotation\\\\data_raw.json'\n",
    "segmented_save_path = f'{data_dir}\\\\save_annotation\\\\data_segmented.json'\n",
    "\n",
    "# Save json\n",
    "save_json(raw_save_path, data_list_raw)\n",
    "save_json(segmented_save_path, data_list_segmented)"
   ]
  }
 ],
 "metadata": {
  "kernelspec": {
   "display_name": "Python 3",
   "language": "python",
   "name": "python3"
  },
  "language_info": {
   "codemirror_mode": {
    "name": "ipython",
    "version": 3
   },
   "file_extension": ".py",
   "mimetype": "text/x-python",
   "name": "python",
   "nbconvert_exporter": "python",
   "pygments_lexer": "ipython3",
   "version": "3.12.1"
  }
 },
 "nbformat": 4,
 "nbformat_minor": 2
}
